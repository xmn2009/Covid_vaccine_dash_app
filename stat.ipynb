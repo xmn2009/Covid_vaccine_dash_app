{
 "cells": [
  {
   "cell_type": "code",
   "execution_count": null,
   "metadata": {
    "collapsed": true,
    "pycharm": {
     "name": "#%%\n"
    }
   },
   "outputs": [],
   "source": [
    "import pandas as pd\n",
    "from statsmodels.tsa.stattools import adfuller\n",
    "from statsmodels.tsa.stattools import grangercausalitytests\n"
   ]
  },
  {
   "cell_type": "code",
   "execution_count": null,
   "outputs": [],
   "source": [
    "dfVariant = pd.read_csv('covid-variants.csv')\n",
    "dfVariant = dfVariant[(dfVariant['variant'] == 'Delta')]\n",
    "\n",
    "# parse date, select range and indexing\n",
    "dfVariant['date']= pd.to_datetime(dfVariant['date'])\n",
    "dfVariant=dfVariant[(dfVariant['date']>'2021-1-1') & (dfVariant['date']<='2021-10-16')]\n",
    "dfVariant.set_index(dfVariant['date'], inplace=True)\n",
    "\n",
    "print(dfVariant.columns)"
   ],
   "metadata": {
    "collapsed": false,
    "pycharm": {
     "name": "#%% select delta variant\n"
    }
   }
  },
  {
   "cell_type": "code",
   "execution_count": null,
   "outputs": [],
   "source": [
    "df= pd.read_csv(\"owid-covid-data (1).csv\")\n",
    "\n",
    "# parse date, select range and indexing\n",
    "df['date']= pd.to_datetime(df['date'])\n",
    "df=df[(df['date']>'2021-1-1')&(df['date']<='2021-10-16')]\n",
    "df.set_index(df['date'], inplace=True)\n",
    "\n",
    "print(df.columns)"
   ],
   "metadata": {
    "collapsed": false,
    "pycharm": {
     "name": "#%% read in full data\n"
    }
   }
  },
  {
   "cell_type": "code",
   "execution_count": null,
   "outputs": [],
   "source": [
    "location = ['Austria', 'Bulgaria', 'France', 'Germany', 'Italy', 'Netherlands',\n",
    "            'Portugal', 'Spain','United States']"
   ],
   "metadata": {
    "collapsed": false,
    "pycharm": {
     "name": "#%% locations\n"
    }
   }
  },
  {
   "cell_type": "code",
   "execution_count": null,
   "outputs": [],
   "source": [
    "for ctry in location:\n",
    "    print(ctry)\n",
    "    dfVariTemp = dfVariant[dfVariant['location'] == ctry].resample('sm').mean()\n",
    "    # print(ctry, '\\n', dfVariant.shape, dfVariant)\n",
    "\n",
    "    dfTemp = df[df['location'] == ctry].resample('sm').mean()\n",
    "    overall_pearson_cases = dfTemp.corr().loc['new_cases','people_fully_vaccinated_per_hundred']\n",
    "    dfTemp[\"death_percentage\"]=dfTemp[\"new_deaths\"]/dfTemp[\"new_cases\"]\n",
    "    print(f\"Pandas computed Pearson r: {overall_pearson_cases}\")\n",
    "    overall_pearson_deaths = dfTemp.corr().loc['new_deaths','people_fully_vaccinated_per_hundred']\n",
    "    print(f\"Pandas computed Pearson r: {overall_pearson_deaths}\")"
   ],
   "metadata": {
    "collapsed": false,
    "pycharm": {
     "name": "#%% Pearson r\n"
    }
   }
  },
  {
   "cell_type": "code",
   "execution_count": null,
   "outputs": [],
   "source": [
    "def pt_result(input):\n",
    "    if input > 0.05:\n",
    "        print(\"Series is not stationary\")\n",
    "    else:\n",
    "        print(\"Series is stationary\")\n",
    "\n",
    "def pt_details(result):\n",
    "    print(f'Test Statistics: {result[0]}')\n",
    "    print(f'p-value: {result[1]}')\n",
    "    print(f'critical_values: {result[4]}')"
   ],
   "metadata": {
    "collapsed": false,
    "pycharm": {
     "name": "#%% ADF helper functions\n"
    }
   }
  },
  {
   "cell_type": "code",
   "execution_count": null,
   "outputs": [],
   "source": [
    "col_names1 =['total_vaccinations', 'new_cases', 'new_deaths']\n",
    "col_names2 = ['hosp_patients', 'icu_patients']\n",
    "\n",
    "for ctry in location:\n",
    "    # dfVariTemp = dfVariant[dfVariant['location'] == ctry].resample('sm').mean()\n",
    "\n",
    "    for col in col_names1:\n",
    "        dfTemp = df[df['location'] == ctry]\n",
    "        dfTemp = dfTemp.resample('10D', on='date').mean().reset_index().ffill()\n",
    "        print('\\n', dfTemp.shape, '10D')\n",
    "        # print('\\n', dfTemp.head)\n",
    "        print(col + \" stationary test (ADF test):\")\n",
    "        result = adfuller(dfTemp[col])\n",
    "        # pt_details(result)\n",
    "        pt_result(result[1])\n",
    "\n",
    "    for col in col_names2:\n",
    "        dfTemp = df[df['location'] == ctry]\n",
    "        dfTemp = dfTemp.resample('18D', on='date').mean().reset_index().ffill()\n",
    "        print('\\n', dfTemp.shape)\n",
    "        # print('\\n', dfTemp.head)\n",
    "        print(col + \" stationary test (ADF test):\")\n",
    "        result = adfuller(dfTemp[col])\n",
    "        # pt_details(result)\n",
    "        pt_result(result[1])\n"
   ],
   "metadata": {
    "collapsed": false,
    "pycharm": {
     "name": "#%% ADF test\n"
    }
   }
  },
  {
   "cell_type": "code",
   "execution_count": null,
   "outputs": [],
   "source": [
    "tup_ls1 = [ ('new_cases', 'total_vaccinations'),\n",
    "            ( 'total_vaccinations','new_cases'), ]\n",
    "tup_ls2 = [ ('new_deaths', 'total_vaccinations'),\n",
    "            ( 'total_vaccinations','new_deaths'), ]\n",
    "tup_ls3 = [ ('hosp_patients', 'total_vaccinations'),\n",
    "           ( 'total_vaccinations','hosp_patients') ]\n",
    "tup_ls4 = [ ('icu_patients', 'total_vaccinations'),\n",
    "           ('total_vaccinations','icu_patients') ]\n",
    "\n",
    "for ctry in location:\n",
    "    for tup in tup_ls4:\n",
    "        print( '\\n', ctry, tup)\n",
    "        dfTemp = df[df['location'] == ctry]\n",
    "        dfTemp = dfTemp.resample('10D', on='date').mean().ffill()\n",
    "        # print('\\n', dfTemp.head)\n",
    "        grangercausalitytests(dfTemp[[tup[0], tup[1]]], maxlag=4)"
   ],
   "metadata": {
    "collapsed": false,
    "pycharm": {
     "name": "#%% Granger Causality in Time Series\n"
    }
   }
  }
 ],
 "metadata": {
  "kernelspec": {
   "display_name": "Python 3",
   "language": "python",
   "name": "python3"
  },
  "language_info": {
   "codemirror_mode": {
    "name": "ipython",
    "version": 2
   },
   "file_extension": ".py",
   "mimetype": "text/x-python",
   "name": "python",
   "nbconvert_exporter": "python",
   "pygments_lexer": "ipython2",
   "version": "2.7.6"
  }
 },
 "nbformat": 4,
 "nbformat_minor": 0
}