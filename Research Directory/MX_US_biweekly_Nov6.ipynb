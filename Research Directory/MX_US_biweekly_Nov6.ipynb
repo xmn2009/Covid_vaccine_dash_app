{
 "cells": [
  {
   "cell_type": "code",
   "execution_count": 1,
   "metadata": {},
   "outputs": [],
   "source": [
    "import csv\n",
    "\n",
    "import pandas as pd\n",
    "import numpy as np\n",
    "import matplotlib.pyplot as plt\n",
    "import seaborn as sns\n",
    "import scipy.stats as stats"
   ]
  },
  {
   "cell_type": "code",
   "execution_count": 2,
   "metadata": {
    "pycharm": {
     "name": "#%% select delta variant\n"
    }
   },
   "outputs": [
    {
     "name": "stdout",
     "output_type": "stream",
     "text": [
      "Index(['location', 'date', 'variant', 'num_sequences', 'perc_sequences',\n",
      "       'num_sequences_total'],\n",
      "      dtype='object')\n"
     ]
    }
   ],
   "source": [
    "dfVariant = pd.read_csv('covid-variants.csv')\n",
    "dfVariant = dfVariant[(dfVariant['variant'] == 'Delta')]\n",
    "\n",
    "# parse date, select range and indexing\n",
    "dfVariant['date']= pd.to_datetime(dfVariant['date'])\n",
    "dfVariant=dfVariant[(dfVariant['date']>'2021-1-1') & (dfVariant['date']<='2021-10-16')]\n",
    "dfVariant.set_index(dfVariant['date'], inplace=True)\n",
    "\n",
    "print(dfVariant.columns)"
   ]
  },
  {
   "cell_type": "code",
   "execution_count": 3,
   "metadata": {
    "pycharm": {
     "name": "#%% read in full data\n"
    }
   },
   "outputs": [
    {
     "name": "stdout",
     "output_type": "stream",
     "text": [
      "Index(['iso_code', 'continent', 'location', 'date', 'total_cases', 'new_cases',\n",
      "       'new_cases_smoothed', 'total_deaths', 'new_deaths',\n",
      "       'new_deaths_smoothed', 'total_cases_per_million',\n",
      "       'new_cases_per_million', 'new_cases_smoothed_per_million',\n",
      "       'total_deaths_per_million', 'new_deaths_per_million',\n",
      "       'new_deaths_smoothed_per_million', 'reproduction_rate', 'icu_patients',\n",
      "       'icu_patients_per_million', 'hosp_patients',\n",
      "       'hosp_patients_per_million', 'weekly_icu_admissions',\n",
      "       'weekly_icu_admissions_per_million', 'weekly_hosp_admissions',\n",
      "       'weekly_hosp_admissions_per_million', 'new_tests', 'total_tests',\n",
      "       'total_tests_per_thousand', 'new_tests_per_thousand',\n",
      "       'new_tests_smoothed', 'new_tests_smoothed_per_thousand',\n",
      "       'positive_rate', 'tests_per_case', 'tests_units', 'total_vaccinations',\n",
      "       'people_vaccinated', 'people_fully_vaccinated', 'total_boosters',\n",
      "       'new_vaccinations', 'new_vaccinations_smoothed',\n",
      "       'total_vaccinations_per_hundred', 'people_vaccinated_per_hundred',\n",
      "       'people_fully_vaccinated_per_hundred', 'total_boosters_per_hundred',\n",
      "       'new_vaccinations_smoothed_per_million', 'stringency_index',\n",
      "       'population', 'population_density', 'median_age', 'aged_65_older',\n",
      "       'aged_70_older', 'gdp_per_capita', 'extreme_poverty',\n",
      "       'cardiovasc_death_rate', 'diabetes_prevalence', 'female_smokers',\n",
      "       'male_smokers', 'handwashing_facilities', 'hospital_beds_per_thousand',\n",
      "       'life_expectancy', 'human_development_index',\n",
      "       'excess_mortality_cumulative_absolute', 'excess_mortality_cumulative',\n",
      "       'excess_mortality', 'excess_mortality_cumulative_per_million'],\n",
      "      dtype='object')\n"
     ]
    }
   ],
   "source": [
    "df= pd.read_csv(\"owid-covid-data (1).csv\")\n",
    "\n",
    "# parse date, select range and indexing\n",
    "df['date']= pd.to_datetime(df['date'])\n",
    "df=df[(df['date']>'2021-1-1')&(df['date']<='2021-10-16')]\n",
    "df.set_index(df['date'], inplace=True)\n",
    "\n",
    "print(df.columns)"
   ]
  },
  {
   "cell_type": "code",
   "execution_count": 4,
   "metadata": {
    "pycharm": {
     "name": "#%%\n"
    }
   },
   "outputs": [
    {
     "name": "stdout",
     "output_type": "stream",
     "text": [
      "['Andorra' 'Anguilla' 'Aruba' 'Austria' 'Bahrain' 'Belgium' 'Bermuda'\n",
      " 'Bhutan' 'Bonaire Sint Eustatius and Saba' 'Cambodia' 'Canada'\n",
      " 'Cayman Islands' 'Chile' 'China' 'Cook Islands' 'Cyprus' 'Denmark'\n",
      " 'European Union' 'Faeroe Islands' 'Finland' 'France' 'Germany'\n",
      " 'Gibraltar' 'Greece' 'Greenland' 'Iceland' 'Ireland' 'Isle of Man'\n",
      " 'Israel' 'Italy' 'Japan' 'Jersey' 'Liechtenstein' 'Lithuania'\n",
      " 'Luxembourg' 'Malaysia' 'Maldives' 'Malta' 'Mauritius' 'Mongolia' 'Nauru'\n",
      " 'Netherlands' 'Niue' 'Norway' 'Pitcairn' 'Portugal' 'Qatar' 'San Marino'\n",
      " 'Seychelles' 'Singapore' 'South Korea' 'Spain' 'Sweden' 'Switzerland'\n",
      " 'Tokelau' 'Turks and Caicos Islands' 'United Arab Emirates'\n",
      " 'United Kingdom' 'Uruguay']\n"
     ]
    }
   ],
   "source": [
    "# below locations looks OK\n",
    "location = df[df['people_fully_vaccinated_per_hundred']>60]['location'].unique()\n",
    "print(location)\n",
    "location = ['Argentina', 'Austria', 'Brazil', 'Bulgaria', 'Cambodia', 'France', 'Germany', 'Ireland', 'Italy',\n",
    "           'Japan', 'Kenya', 'Malaysia', 'Mexico', 'Netherlands', 'Nigeria', 'Poland', 'Portugal', 'South Africa',\n",
    "           'Spain', 'United States']\n",
    "\n",
    "# all unique locations\n",
    "# location = df[\"location\"].unique().tolist()\n"
   ]
  },
  {
   "cell_type": "code",
   "execution_count": 5,
   "metadata": {
    "pycharm": {
     "name": "#%% total vaccinations vs. new cases vs. delta variant - done\n"
    },
    "scrolled": true
   },
   "outputs": [],
   "source": [
    "# location = df[df['people_fully_vaccinated_per_hundred']>60]['location'].unique().tolist()\n",
    "#\n",
    "#\n",
    "# for ctry in location:\n",
    "#\n",
    "#     # resample to biweekly\n",
    "#     dfVariTemp = dfVariant[dfVariant['location'] == ctry].resample('sm').mean()\n",
    "#     # print(ctry, '\\n', dfVariant.shape, dfVariant)\n",
    "#\n",
    "#     dfTemp = df[df['location'] == ctry].resample('sm').mean()\n",
    "#     # print(ctry, '\\n', df.shape, dfTemp['new_cases'], dfTemp['total_vaccinations'])\n",
    "#\n",
    "#     plt.figure(figsize=(12,5))\n",
    "#     plt.title(f'{ctry}: total vaccinations vs. new cases vs. delta variant')\n",
    "#     ax1 = dfTemp.new_cases.plot(color='blue', grid=True, label='new cases')\n",
    "#     ax2 = dfTemp.people_fully_vaccinated_per_hundred.plot(color='red', grid=True, secondary_y=True, label='total vaccinations')\n",
    "#     ax3 = dfVariTemp.num_sequences.plot(color='green', grid=True, label='delta variant')\n",
    "#     #ax4 = dfTemp.new_deaths_per_million.plot(color='yellow', grid=True, label='new deaths')\n",
    "#\n",
    "#\n",
    "#     # print(f\"{ctry} total_vac vs new cases:\")\n",
    "#     # print(dfTemp.total_vaccinations.corr(dfTemp.new_cases))\n",
    "#     #\n",
    "#     # print(f\"{ctry} total_vac vs delta cases:\")\n",
    "#     # print(dfTemp.total_vaccinations.iloc[10:].corr(dfVariTemp.num_sequences.iloc[10:]))\n",
    "#     #\n",
    "#     # print(f\"{ctry} new cases vs delta cases:\")\n",
    "#     # print(dfTemp.new_cases.iloc[10:].corr(dfVariTemp.num_sequences.iloc[10:]))\n",
    "#\n",
    "#     h1, l1 = ax1.get_legend_handles_labels()\n",
    "#     h2, l2 = ax2.get_legend_handles_labels()\n",
    "#     h3, l3 = ax3.get_legend_handles_labels()\n",
    "#\n",
    "#\n",
    "#     #plt.legend(h1+h2, l1+l2, loc=2)\n",
    "#     ax1.legend(loc=2)\n",
    "#     ax2.legend(loc=1)\n",
    "#     ax3.legend(loc=2)\n",
    "#\n",
    "#\n",
    "#     plt.show()"
   ]
  },
  {
   "cell_type": "code",
   "execution_count": 6,
   "metadata": {
    "pycharm": {
     "name": "#%% Pearson r\n"
    }
   },
   "outputs": [
    {
     "name": "stdout",
     "output_type": "stream",
     "text": [
      "Andorra\n",
      "Pandas computed Pearson r: -0.5627255315269442\n",
      "Pandas computed Pearson r: -0.5400251157638918\n",
      "Austria\n",
      "Pandas computed Pearson r: -0.339594975734809\n",
      "Pandas computed Pearson r: -0.7796017900744127\n",
      "Bahrain\n",
      "Pandas computed Pearson r: -0.5313701275342277\n",
      "Pandas computed Pearson r: -0.21609425930151765\n",
      "Belgium\n",
      "Pandas computed Pearson r: -0.41041540035075497\n",
      "Pandas computed Pearson r: -0.8266106218929807\n",
      "Bhutan\n",
      "Pandas computed Pearson r: -0.9852811891601121\n",
      "Pandas computed Pearson r: 0.019190165105827047\n",
      "Cambodia\n",
      "Pandas computed Pearson r: 0.3480119215469275\n",
      "Pandas computed Pearson r: 0.5990637983702398\n",
      "Canada\n",
      "Pandas computed Pearson r: -0.4217516362282435\n",
      "Pandas computed Pearson r: -0.501232284202251\n",
      "Chile\n",
      "Pandas computed Pearson r: -0.5685160358999451\n",
      "Pandas computed Pearson r: -0.36028617819743686\n",
      "Cyprus\n",
      "Pandas computed Pearson r: 0.042766701423289234\n",
      "Pandas computed Pearson r: 0.12050749816534932\n",
      "Denmark\n",
      "Pandas computed Pearson r: -0.1615251024888215\n",
      "Pandas computed Pearson r: -0.4437535767150449\n",
      "European Union\n",
      "Pandas computed Pearson r: -0.6606381088672983\n",
      "Pandas computed Pearson r: -0.8376278074418629\n",
      "Finland\n",
      "Pandas computed Pearson r: 0.36579068732412345\n",
      "Pandas computed Pearson r: -0.2868075615512824\n",
      "France\n",
      "Pandas computed Pearson r: -0.5108688065412212\n",
      "Pandas computed Pearson r: -0.7928440083110456\n",
      "Germany\n",
      "Pandas computed Pearson r: -0.5098343233025734\n",
      "Pandas computed Pearson r: -0.7049375960792764\n",
      "Greece\n",
      "Pandas computed Pearson r: 0.3881555480985398\n",
      "Pandas computed Pearson r: -0.4166185062028307\n",
      "Iceland\n",
      "Pandas computed Pearson r: 0.7152523774316486\n",
      "Pandas computed Pearson r: 0.2493210393735753\n",
      "Ireland\n",
      "Pandas computed Pearson r: 0.010778322861115543\n",
      "Pandas computed Pearson r: -0.5344361350609735\n",
      "Israel\n",
      "Pandas computed Pearson r: -0.4454014926314272\n",
      "Pandas computed Pearson r: -0.7721970972154806\n",
      "Italy\n",
      "Pandas computed Pearson r: -0.711080571564666\n",
      "Pandas computed Pearson r: -0.8373133033229074\n",
      "Japan\n",
      "Pandas computed Pearson r: 0.3769416139585976\n",
      "Pandas computed Pearson r: -0.28512752038361805\n",
      "Liechtenstein\n",
      "Pandas computed Pearson r: -0.026510048068390944\n",
      "Pandas computed Pearson r: -0.11864144792641354\n",
      "Lithuania\n",
      "Pandas computed Pearson r: 0.11980798858587612\n",
      "Pandas computed Pearson r: -0.2552555453893904\n",
      "Luxembourg\n",
      "Pandas computed Pearson r: -0.6329322462735425\n",
      "Pandas computed Pearson r: -0.8038433293693964\n",
      "Malaysia\n",
      "Pandas computed Pearson r: 0.7339108882860175\n",
      "Pandas computed Pearson r: 0.8051732384349959\n",
      "Maldives\n",
      "Pandas computed Pearson r: -0.37116969663507066\n",
      "Pandas computed Pearson r: -0.2632796238152061\n",
      "Malta\n",
      "Pandas computed Pearson r: -0.5093807364980397\n",
      "Pandas computed Pearson r: -0.7057485545095592\n",
      "Mauritius\n",
      "Pandas computed Pearson r: 0.7017179105140727\n",
      "Pandas computed Pearson r: 0.7504090883030319\n",
      "Mongolia\n",
      "Pandas computed Pearson r: 0.6910085130842375\n",
      "Pandas computed Pearson r: 0.43990295073824426\n",
      "Netherlands\n",
      "Pandas computed Pearson r: -0.5669244412380622\n",
      "Pandas computed Pearson r: -0.7344982561739487\n",
      "Norway\n",
      "Pandas computed Pearson r: 0.3272418846731153\n",
      "Pandas computed Pearson r: -0.4189880866460135\n",
      "Portugal\n",
      "Pandas computed Pearson r: -0.26245985760035245\n",
      "Pandas computed Pearson r: -0.43729378210739106\n",
      "Qatar\n",
      "Pandas computed Pearson r: -0.7386007046379378\n",
      "Pandas computed Pearson r: -0.8691175958550476\n",
      "San Marino\n",
      "Pandas computed Pearson r: -0.8322445082244404\n",
      "Pandas computed Pearson r: -0.8360201175382604\n",
      "Seychelles\n",
      "Pandas computed Pearson r: 0.4554396941613182\n",
      "Pandas computed Pearson r: 0.5304488395165967\n",
      "Singapore\n",
      "Pandas computed Pearson r: 0.5707040049384665\n",
      "Pandas computed Pearson r: 0.5441385287011518\n",
      "South Korea\n",
      "Pandas computed Pearson r: 0.8848401943142209\n",
      "Pandas computed Pearson r: 0.7361905126330435\n",
      "Spain\n",
      "Pandas computed Pearson r: -0.15798628203674972\n",
      "Pandas computed Pearson r: -0.5846413644951768\n",
      "Sweden\n",
      "Pandas computed Pearson r: -0.7655924674565362\n",
      "Pandas computed Pearson r: -0.59922412948148\n",
      "Switzerland\n",
      "Pandas computed Pearson r: -0.14957476606240247\n",
      "Pandas computed Pearson r: -0.552064273182574\n",
      "United Arab Emirates\n",
      "Pandas computed Pearson r: -0.9006150542809607\n",
      "Pandas computed Pearson r: -0.5720700786359025\n",
      "United Kingdom\n",
      "Pandas computed Pearson r: 0.37456896606742535\n",
      "Pandas computed Pearson r: -0.550952525902908\n",
      "Uruguay\n",
      "Pandas computed Pearson r: -0.8708888347543573\n",
      "Pandas computed Pearson r: -0.777834281737675\n"
     ]
    }
   ],
   "source": [
    "location = ['Andorra','Austria','Bahrain' ,'Belgium','Bhutan', 'Cambodia', 'Canada',\n",
    "            'Chile', 'Cyprus', 'Denmark', 'European Union', 'Finland', 'France',\n",
    "            'Germany', 'Greece', 'Iceland', 'Ireland', 'Israel', 'Italy', 'Japan',\n",
    "            'Liechtenstein', 'Lithuania', 'Luxembourg', 'Malaysia', 'Maldives',\n",
    "            'Malta', 'Mauritius', 'Mongolia', 'Netherlands', 'Norway', 'Portugal',\n",
    "            'Qatar', 'San Marino', 'Seychelles', 'Singapore', 'South Korea', 'Spain',\n",
    "            'Sweden', 'Switzerland' , 'United Arab Emirates',\n",
    "             'United Kingdom', 'Uruguay']\n",
    "\n",
    "for ctry in location:\n",
    "    print(ctry)\n",
    "    dfVariTemp = dfVariant[dfVariant['location'] == ctry].resample('sm').mean()\n",
    "    # print(ctry, '\\n', dfVariant.shape, dfVariant)\n",
    "\n",
    "    dfTemp = df[df['location'] == ctry].resample('sm').mean()\n",
    "    overall_pearson_cases = dfTemp.corr().loc['new_cases','people_fully_vaccinated_per_hundred']\n",
    "    dfTemp[\"death_percentage\"]=dfTemp[\"new_deaths\"]/dfTemp[\"new_cases\"]\n",
    "    print(f\"Pandas computed Pearson r: {overall_pearson_cases}\")\n",
    "    overall_pearson_deaths = dfTemp.corr().loc['new_deaths','people_fully_vaccinated_per_hundred']\n",
    "    print(f\"Pandas computed Pearson r: {overall_pearson_deaths}\")"
   ]
  },
  {
   "cell_type": "code",
   "execution_count": 7,
   "metadata": {
    "pycharm": {
     "name": "#%% total vaccinations per hundred vs. new death vs. % delta variant' -done\n"
    },
    "scrolled": true
   },
   "outputs": [],
   "source": [
    "# location = df[df['people_fully_vaccinated_per_hundred']>60]['location'].unique()\n",
    "#\n",
    "# for ctry in location:\n",
    "#\n",
    "#     # resample to biweekly\n",
    "#     dfVariTemp = dfVariant[dfVariant['location'] == ctry].resample('sm').mean()\n",
    "#     #print(ctry, '\\n', dfVariant.shape,'\\n', dfVariTemp)\n",
    "#\n",
    "#     dfTemp = df[df['location'] == ctry].resample('sm').mean()\n",
    "#     #print(ctry, '\\n', df.shape, '\\n', dfTemp[['new_deaths', 'new_deaths_per_million', 'new_deaths_per_million',\n",
    "#     #                                          'total_vaccinations', 'total_vaccinations_per_hundred']])\n",
    "#\n",
    "#     plt.figure(figsize=(12,5))\n",
    "#     plt.title(f'{ctry}: total vaccinations per hundred vs. new death vs. % delta variant')\n",
    "#     ax1 = dfTemp.new_deaths.plot(color='blue', grid=True, secondary_y=True, label='new death')\n",
    "#     ax2 = dfTemp.people_fully_vaccinated_per_hundred.plot(color='red', grid=True, label='total_vaccinations_per_hundred')\n",
    "#     ax3 = dfVariTemp.perc_sequences.plot(color='green', grid=True, label='% delta variant')\n",
    "#     # ax4 = dfTemp.icu_patients.plot(color='purple', grid=True, label='icu patients')\n",
    "#\n",
    "#     h1, l1 = ax1.get_legend_handles_labels()\n",
    "#     h2, l2 = ax2.get_legend_handles_labels()\n",
    "#     h3, l3 = ax3.get_legend_handles_labels()\n",
    "#     # h4, l4 = ax3.get_legend_handles_labels()\n",
    "#\n",
    "#     #plt.legend(h1+h2, l1+l2, loc=2)\n",
    "#     ax1.legend(loc=2)\n",
    "#     ax2.legend(loc=1)\n",
    "#     ax3.legend(loc=1)\n",
    "#     # ax4.legend(loc=2)\n",
    "#\n",
    "#     plt.show()"
   ]
  },
  {
   "cell_type": "code",
   "execution_count": 8,
   "metadata": {
    "scrolled": true
   },
   "outputs": [],
   "source": [
    "# location = df['location'].unique()\n",
    "#\n",
    "# for ctry in location:\n",
    "#\n",
    "#     # resample to biweekly\n",
    "#     dfVariTemp = dfVariant[dfVariant['location'] == ctry].resample('sm').mean()\n",
    "#    # print(ctry, '\\n', dfVariant.shape,'\\n', dfVariTemp)\n",
    "#\n",
    "#     dfTemp = df[df['location'] == ctry].resample('sm').mean()\n",
    "#     #print(ctry, '\\n', df.shape, '\\n', dfTemp[['new_deaths', 'new_deaths_per_million', 'new_deaths_per_million',\n",
    "#                                            #   'total_vaccinations', 'total_vaccinations_per_hundred']])\n",
    "#\n",
    "#     plt.figure(figsize=(12,5))\n",
    "#     plt.title(f'{ctry}: total vaccinations per hundred vs. new death vs. % delta variant')\n",
    "#     ax1 = dfTemp.new_deaths.plot(color='blue', grid=True, secondary_y=True, label='new death')\n",
    "#     ax2 = dfTemp.total_vaccinations_per_hundred.plot(color='red', grid=True, label='total_vaccinations_per_hundred')\n",
    "#     ax3 = dfVariTemp.perc_sequences.plot(color='green', grid=True, label='% delta variant')\n",
    "#     # ax4 = dfTemp.icu_patients.plot(color='purple', grid=True, label='icu patients')\n",
    "#\n",
    "#     h1, l1 = ax1.get_legend_handles_labels()\n",
    "#     h2, l2 = ax2.get_legend_handles_labels()\n",
    "#     h3, l3 = ax3.get_legend_handles_labels()\n",
    "#     # h4, l4 = ax3.get_legend_handles_labels()\n",
    "#\n",
    "#     #plt.legend(h1+h2, l1+l2, loc=2)\n",
    "#     ax1.legend(loc=2)\n",
    "#     ax2.legend(loc=1)\n",
    "#     ax3.legend(loc=1)\n",
    "#     # ax4.legend(loc=2)\n",
    "#\n",
    "#     plt.show()"
   ]
  },
  {
   "cell_type": "code",
   "execution_count": 9,
   "metadata": {},
   "outputs": [],
   "source": [
    "# location = df[df['people_fully_vaccinated_per_hundred']>60]['location'].unique()\n",
    "#\n",
    "# for ctry in location:\n",
    "#\n",
    "#     # resample to biweekly\n",
    "#     dfVariTemp = dfVariant[dfVariant['location'] == ctry].resample('sm').mean()\n",
    "#    # print(ctry, '\\n', dfVariant.shape,'\\n', dfVariTemp)\n",
    "#\n",
    "#     dfTemp = df[df['location'] == ctry].resample('sm').mean()\n",
    "#     #print(ctry, '\\n', df.shape, '\\n', dfTemp[['new_deaths', 'new_deaths_per_million', 'new_deaths_per_million',\n",
    "#                                            #   'total_vaccinations', 'total_vaccinations_per_hundred']])\n",
    "#     print(dfVariTemp)\n",
    "#     plt.figure(figsize=(12,5))\n",
    "#     plt.title(f'{ctry}: total vaccinations per hundred vs. new death vs. % delta variant')\n",
    "#     ax1 = dfTemp.new_deaths.plot(color='blue', grid=True, secondary_y=True, label='new death')\n",
    "#     ax2 = dfTemp.total_vaccinations_per_hundred.plot(color='red', grid=True, label='total_vaccinations_per_hundred')\n",
    "#     ax3 = dfVariTemp.perc_sequences.plot(color='green', grid=True, label='% delta variant')\n",
    "#     # ax4 = dfTemp.icu_patients.plot(color='purple', grid=True, label='icu patients')\n",
    "#\n",
    "#     h1, l1 = ax1.get_legend_handles_labels()\n",
    "#     h2, l2 = ax2.get_legend_handles_labels()\n",
    "#     h3, l3 = ax3.get_legend_handles_labels()\n",
    "#     # h4, l4 = ax3.get_legend_handles_labels()\n",
    "#\n",
    "#     #plt.legend(h1+h2, l1+l2, loc=2)\n",
    "#     ax1.legend(loc=2)\n",
    "#     ax2.legend(loc=1)\n",
    "#     ax3.legend(loc=1)\n",
    "#     # ax4.legend(loc=2)\n",
    "#\n",
    "#     plt.show()"
   ]
  },
  {
   "cell_type": "code",
   "execution_count": 10,
   "metadata": {
    "pycharm": {
     "name": "#%% total vaccinations per hundred vs. hospital vs. % delta variant'\n"
    }
   },
   "outputs": [],
   "source": [
    "# #normalization data\n",
    "# location = [\"United States\"]\n",
    "#\n",
    "# for ctry in location:\n",
    "#\n",
    "#     # resample to biweekly\n",
    "#     dfVariTemp = dfVariant[dfVariant['location'] == ctry].resample('sm').mean()\n",
    "#     # print(ctry, '\\n', dfVariant.shape,'\\n', dfVariTemp)\n",
    "#\n",
    "#     dfTemp = df[df['location'] == ctry].resample('sm').mean()\n",
    "#     # print(ctry, '\\n', df.shape, '\\n', dfTemp[['icu_patients_per_million', 'weekly_icu_admissions','weekly_icu_admissions_per_million',\n",
    "#     #                                           'hosp_patients_per_million','weekly_hosp_admissions','weekly_hosp_admissions_per_million',\n",
    "#     #                                           'hosp_patients', 'hospital_beds_per_thousand',\n",
    "#     #                                           'total_vaccinations', 'total_vaccinations_per_hundred']])\n",
    "#     print(dfVariTemp.shape)\n",
    "#     print(dfTemp.shape)\n",
    "#     dfmerge = dfVariTemp.join(dfTemp)\n",
    "#     print(dfmerge.shape)\n",
    "#     dfnorm =(dfmerge-dfmerge.min())/(dfmerge.max()-dfmerge.min())\n",
    "#     print(dfnorm)\n",
    "#     plt.figure(figsize=(12,5))\n",
    "#     plt.title(f'{ctry}: normalization of total vaccinations vs. delta variant vs. new cases/new deaths per million')\n",
    "#     ax1 = dfnorm.total_vaccinations_per_hundred.plot(color='red', grid=True, label='total_vaccinations_per_hundred')\n",
    "#     ax2 = dfnorm.num_sequences.plot(color='green', grid=True, label='delta variant')\n",
    "#     ax3 = dfnorm.new_cases_per_million  .plot(color='blue', grid=True,secondary_y=True, label='hosp_patients_per_million')\n",
    "#     ax4 = dfnorm.new_deaths_per_million.plot(color='orange', grid=True, secondary_y=True, label='icu_patients_per_million')\n",
    "#\n",
    "#\n",
    "#     h1, l1 = ax1.get_legend_handles_labels()\n",
    "#     h2, l2 = ax2.get_legend_handles_labels()\n",
    "#     h3, l3 = ax3.get_legend_handles_labels()\n",
    "#     h4, l4 = ax3.get_legend_handles_labels()\n",
    "#\n",
    "#     #plt.legend(h1+h2, l1+l2, loc=2)\n",
    "#     ax1.legend(loc=2)\n",
    "#     ax2.legend(loc=2)\n",
    "#     ax3.legend(loc=1)\n",
    "#     ax4.legend(loc=1)\n",
    "#\n",
    "#     plt.show()\n"
   ]
  },
  {
   "cell_type": "code",
   "execution_count": 11,
   "metadata": {
    "pycharm": {
     "name": "#%% statistic\n"
    }
   },
   "outputs": [],
   "source": [
    "from statsmodels.tsa.stattools import adfuller\n",
    "\n",
    "def pt_result(input):\n",
    "    if input > 0.05:\n",
    "        print(\"Series is not stationary\")\n",
    "    else:\n",
    "        print(\"Series is stationary\")\n",
    "\n",
    "def pt_details(result):\n",
    "    print(f'Test Statistics: {result[0]}')\n",
    "    print(f'p-value: {result[1]}')\n",
    "    print(f'critical_values: {result[4]}')"
   ]
  },
  {
   "cell_type": "code",
   "execution_count": 12,
   "metadata": {
    "pycharm": {
     "name": "#%% ADF test\n"
    }
   },
   "outputs": [
    {
     "name": "stdout",
     "output_type": "stream",
     "text": [
      "\n",
      " (29, 61) 10D\n",
      "total_vaccinations stationary test (ADF test):\n",
      "Series is stationary\n",
      "\n",
      " (29, 61) 10D\n",
      "new_cases stationary test (ADF test):\n",
      "Series is stationary\n",
      "\n",
      " (29, 61) 10D\n",
      "new_deaths stationary test (ADF test):\n",
      "Series is stationary\n",
      "\n",
      " (16, 61)\n",
      "hosp_patients stationary test (ADF test):\n",
      "Series is stationary\n",
      "\n",
      " (16, 61)\n",
      "icu_patients stationary test (ADF test):\n",
      "Series is stationary\n"
     ]
    }
   ],
   "source": [
    "location = ['Austria', 'Bulgaria', 'France', 'Germany', 'Italy', 'Netherlands',\n",
    "            'Portugal', 'Spain','United States']\n",
    "\n",
    "col_names1 =['total_vaccinations', 'new_cases', 'new_deaths']\n",
    "col_names2 = ['hosp_patients', 'icu_patients']\n",
    "\n",
    "for ctry in location:\n",
    "    # dfVariTemp = dfVariant[dfVariant['location'] == ctry].resample('sm').mean()\n",
    "\n",
    "    for col in col_names1:\n",
    "        dfTemp = df[df['location'] == ctry]\n",
    "        dfTemp = dfTemp.resample('10D', on='date').mean().reset_index().ffill()\n",
    "        print('\\n', dfTemp.shape, '10D')\n",
    "        # print('\\n', dfTemp.head)\n",
    "        print(col + \" stationary test (ADF test):\")\n",
    "        result = adfuller(dfTemp[col])\n",
    "        # pt_details(result)\n",
    "        pt_result(result[1])\n",
    "\n",
    "    for col in col_names2:\n",
    "        dfTemp = df[df['location'] == ctry]\n",
    "        dfTemp = dfTemp.resample('18D', on='date').mean().reset_index().ffill()\n",
    "        print('\\n', dfTemp.shape)\n",
    "        # print('\\n', dfTemp.head)\n",
    "        print(col + \" stationary test (ADF test):\")\n",
    "        result = adfuller(dfTemp[col])\n",
    "        # pt_details(result)\n",
    "        pt_result(result[1])\n"
   ]
  },
  {
   "cell_type": "code",
   "execution_count": 13,
   "metadata": {
    "pycharm": {
     "name": "#%%\n"
    },
    "scrolled": true
   },
   "outputs": [],
   "source": [
    "from statsmodels.tsa.stattools import grangercausalitytests\n",
    "\n",
    "\n",
    "\n",
    "tup_ls1 = [ ('new_cases', 'total_vaccinations'),\n",
    "            ( 'total_vaccinations','new_cases'), ]\n",
    "tup_ls2 = [ ('new_deaths', 'total_vaccinations'),\n",
    "            ( 'total_vaccinations','new_deaths'), ]\n",
    "tup_ls3 = [ ('hosp_patients', 'total_vaccinations'),\n",
    "           ( 'total_vaccinations','hosp_patients') ]\n",
    "tup_ls4 = [ ('icu_patients', 'total_vaccinations'),\n",
    "           ('total_vaccinations','icu_patients') ]\n",
    "\n",
    "for ctry in location:\n",
    "    for tup in tup_ls4:\n",
    "        print( '\\n', ctry, tup)\n",
    "        dfTemp = df[df['location'] == ctry]\n",
    "        dfTemp = dfTemp.resample('10D', on='date').mean().ffill()\n",
    "        # print('\\n', dfTemp.head)\n",
    "        grangercausalitytests(dfTemp[[tup[0], tup[1]]], maxlag=4)\n",
    "\n",
    "\n",
    "\n",
    "      \n"
   ]
  },
  {
   "cell_type": "code",
   "execution_count": 13,
   "metadata": {},
   "outputs": [],
   "source": []
  }
 ],
 "metadata": {
  "kernelspec": {
   "display_name": "Python 3",
   "language": "python",
   "name": "python3"
  },
  "language_info": {
   "codemirror_mode": {
    "name": "ipython",
    "version": 3
   },
   "file_extension": ".py",
   "mimetype": "text/x-python",
   "name": "python",
   "nbconvert_exporter": "python",
   "pygments_lexer": "ipython3",
   "version": "3.8.8"
  }
 },
 "nbformat": 4,
 "nbformat_minor": 2
}