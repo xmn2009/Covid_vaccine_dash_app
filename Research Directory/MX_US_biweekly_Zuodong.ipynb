{
 "cells": [
  {
   "cell_type": "code",
   "execution_count": 6,
   "metadata": {},
   "outputs": [
    {
     "ename": "ImportError",
     "evalue": "Unable to import required dependencies:\nnumpy: \n\nIMPORTANT: PLEASE READ THIS FOR ADVICE ON HOW TO SOLVE THIS ISSUE!\n\nImporting the numpy C-extensions failed. This error can happen for\nmany reasons, often due to issues with your setup or how NumPy was\ninstalled.\n\nWe have compiled some common reasons and troubleshooting tips at:\n\n    https://numpy.org/devdocs/user/troubleshooting-importerror.html\n\nPlease note and check the following:\n\n  * The Python version is: Python3.7 from \"D:\\miniconda3\\envs\\py3.7\\python.exe\"\n  * The NumPy version is: \"1.19.1\"\n\nand make sure that they are the versions you expect.\nPlease carefully study the documentation linked above for further help.\n\nOriginal error was: DLL load failed: The specified module could not be found.\n",
     "output_type": "error",
     "traceback": [
      "\u001b[1;31m---------------------------------------------------------------------------\u001b[0m",
      "\u001b[1;31mImportError\u001b[0m                               Traceback (most recent call last)",
      "\u001b[1;32m~\\AppData\\Local\\Temp/ipykernel_27936/1964630288.py\u001b[0m in \u001b[0;36m<module>\u001b[1;34m\u001b[0m\n\u001b[1;32m----> 1\u001b[1;33m \u001b[1;32mimport\u001b[0m \u001b[0mpandas\u001b[0m \u001b[1;32mas\u001b[0m \u001b[0mpd\u001b[0m\u001b[1;33m\u001b[0m\u001b[1;33m\u001b[0m\u001b[0m\n\u001b[0m\u001b[0;32m      2\u001b[0m \u001b[1;32mimport\u001b[0m \u001b[0mnumpy\u001b[0m \u001b[1;32mas\u001b[0m \u001b[0mnp\u001b[0m\u001b[1;33m\u001b[0m\u001b[1;33m\u001b[0m\u001b[0m\n\u001b[0;32m      3\u001b[0m \u001b[1;31m# %matplotlib inline\u001b[0m\u001b[1;33m\u001b[0m\u001b[1;33m\u001b[0m\u001b[1;33m\u001b[0m\u001b[0m\n\u001b[0;32m      4\u001b[0m \u001b[1;32mimport\u001b[0m \u001b[0mmatplotlib\u001b[0m\u001b[1;33m.\u001b[0m\u001b[0mpyplot\u001b[0m \u001b[1;32mas\u001b[0m \u001b[0mplt\u001b[0m\u001b[1;33m\u001b[0m\u001b[1;33m\u001b[0m\u001b[0m\n\u001b[0;32m      5\u001b[0m \u001b[1;32mimport\u001b[0m \u001b[0mseaborn\u001b[0m \u001b[1;32mas\u001b[0m \u001b[0msns\u001b[0m\u001b[1;33m\u001b[0m\u001b[1;33m\u001b[0m\u001b[0m\n",
      "\u001b[1;32mD:\\miniconda3\\envs\\py3.7\\lib\\site-packages\\pandas\\__init__.py\u001b[0m in \u001b[0;36m<module>\u001b[1;34m\u001b[0m\n\u001b[0;32m     15\u001b[0m \u001b[1;32mif\u001b[0m \u001b[0mmissing_dependencies\u001b[0m\u001b[1;33m:\u001b[0m\u001b[1;33m\u001b[0m\u001b[1;33m\u001b[0m\u001b[0m\n\u001b[0;32m     16\u001b[0m     raise ImportError(\n\u001b[1;32m---> 17\u001b[1;33m         \u001b[1;34m\"Unable to import required dependencies:\\n\"\u001b[0m \u001b[1;33m+\u001b[0m \u001b[1;34m\"\\n\"\u001b[0m\u001b[1;33m.\u001b[0m\u001b[0mjoin\u001b[0m\u001b[1;33m(\u001b[0m\u001b[0mmissing_dependencies\u001b[0m\u001b[1;33m)\u001b[0m\u001b[1;33m\u001b[0m\u001b[1;33m\u001b[0m\u001b[0m\n\u001b[0m\u001b[0;32m     18\u001b[0m     )\n\u001b[0;32m     19\u001b[0m \u001b[1;32mdel\u001b[0m \u001b[0mhard_dependencies\u001b[0m\u001b[1;33m,\u001b[0m \u001b[0mdependency\u001b[0m\u001b[1;33m,\u001b[0m \u001b[0mmissing_dependencies\u001b[0m\u001b[1;33m\u001b[0m\u001b[1;33m\u001b[0m\u001b[0m\n",
      "\u001b[1;31mImportError\u001b[0m: Unable to import required dependencies:\nnumpy: \n\nIMPORTANT: PLEASE READ THIS FOR ADVICE ON HOW TO SOLVE THIS ISSUE!\n\nImporting the numpy C-extensions failed. This error can happen for\nmany reasons, often due to issues with your setup or how NumPy was\ninstalled.\n\nWe have compiled some common reasons and troubleshooting tips at:\n\n    https://numpy.org/devdocs/user/troubleshooting-importerror.html\n\nPlease note and check the following:\n\n  * The Python version is: Python3.7 from \"D:\\miniconda3\\envs\\py3.7\\python.exe\"\n  * The NumPy version is: \"1.19.1\"\n\nand make sure that they are the versions you expect.\nPlease carefully study the documentation linked above for further help.\n\nOriginal error was: DLL load failed: The specified module could not be found.\n"
     ]
    }
   ],
   "source": [
    "import pandas as pd\n",
    "import numpy as np\n",
    "# %matplotlib inline\n",
    "import matplotlib.pyplot as plt\n",
    "import seaborn as sns\n",
    "import scipy.stats as stats"
   ]
  },
  {
   "cell_type": "code",
   "execution_count": null,
   "metadata": {
    "pycharm": {
     "name": "#%% select delta variant\n"
    }
   },
   "outputs": [],
   "source": [
    "dfVariant = pd.read_csv('covid-variants.csv')\n",
    "dfVariant = dfVariant[(dfVariant['variant'] == 'Delta')]\n",
    "\n",
    "# parse date, select range and indexing\n",
    "dfVariant['date']= pd.to_datetime(dfVariant['date'])\n",
    "dfVariant=dfVariant[(dfVariant['date']>'2021-1-1') & (dfVariant['date']<'2021-10-16')]\n",
    "dfVariant.set_index(dfVariant['date'], inplace=True)\n"
   ]
  },
  {
   "cell_type": "code",
   "execution_count": null,
   "metadata": {
    "pycharm": {
     "name": "#%% read in full data\n"
    }
   },
   "outputs": [],
   "source": [
    "df= pd.read_csv(\"owid-covid-data (1).csv\")\n",
    "\n",
    "# parse date, select range and indexing\n",
    "df['date']= pd.to_datetime(df['date'])\n",
    "df=df[(df['date']>'2021-1-1')&(df['date']<'2021-10-16')]\n",
    "df.set_index(df['date'], inplace=True)\n",
    "\n",
    "print(df.columns)"
   ]
  },
  {
   "cell_type": "code",
   "execution_count": null,
   "metadata": {
    "pycharm": {
     "name": "#%%\n"
    }
   },
   "outputs": [],
   "source": [
    "# below locations looks OK\n",
    "location = ['Argentina', 'Austria', 'Brazil', 'Bulgaria', 'Cambodia', 'France', 'Germany', 'Ireland', 'Italy',\n",
    "            'Japan', 'Kenya', 'Malaysia', 'Mexico', 'Netherlands', 'Nigeria', 'Poland', 'Portugal', 'South Africa',\n",
    "            'Spain', 'United States']\n",
    "\n",
    "# all unique locations\n",
    "# location = df[\"location\"].unique().tolist()"
   ]
  },
  {
   "cell_type": "code",
   "execution_count": null,
   "metadata": {},
   "outputs": [],
   "source": []
  },
  {
   "cell_type": "code",
   "execution_count": null,
   "metadata": {
    "pycharm": {
     "name": "#%% total vaccinations vs. new cases vs. delta variant\n"
    }
   },
   "outputs": [],
   "source": [
    "for ctry in location:\n",
    "\n",
    "    # resample to biweekly\n",
    "    dfVariTemp = dfVariant[dfVariant['location'] == ctry].resample('sm').mean()\n",
    "    # print(ctry, '\\n', dfVariant.shape, dfVariant)\n",
    "\n",
    "    dfTemp = df[df['location'] == ctry].resample('sm').mean()\n",
    "    # print(ctry, '\\n', df.shape, dfTemp['new_cases'], dfTemp['total_vaccinations'])\n",
    "\n",
    "    plt.figure(figsize=(12,5))\n",
    "    plt.title(f'{ctry}: total vaccinations vs. new cases vs. delta variant vs. hospital patients')\n",
    "    ax1 = dfTemp.new_cases.plot(color='blue', grid=True, label='new cases')\n",
    "    ax2 = dfTemp.total_vaccinations.plot(color='red', grid=True, secondary_y=True, label='total vaccinations')\n",
    "    ax3 = dfVariTemp.num_sequences.plot(color='green', grid=True, label='delta variant')\n",
    "    \n",
    "    print(\"total_vac vs new cases:\")\n",
    "    print(dfTemp.total_vaccinations.corr(dfTemp.new_cases))\n",
    "    \n",
    "    print(\"total_vac vs delta cases:\")\n",
    "    print(dfTemp.total_vaccinations.iloc[10:].corr(dfVariTemp.num_sequences.iloc[10:]))  \n",
    "\n",
    "    print(\"new cases vs delta cases:\")\n",
    "    print(dfTemp.new_cases.iloc[10:].corr(dfVariTemp.num_sequences.iloc[10:]))      \n",
    "    \n",
    "    \n",
    "    h1, l1 = ax1.get_legend_handles_labels()\n",
    "    h2, l2 = ax2.get_legend_handles_labels()\n",
    "    h3, l3 = ax3.get_legend_handles_labels()\n",
    "\n",
    "\n",
    "    #plt.legend(h1+h2, l1+l2, loc=2)\n",
    "    ax1.legend(loc=2)\n",
    "    ax2.legend(loc=1)\n",
    "    ax3.legend(loc=2)\n",
    "\n",
    "\n",
    "    plt.show()\n"
   ]
  },
  {
   "cell_type": "code",
   "execution_count": null,
   "metadata": {},
   "outputs": [],
   "source": []
  },
  {
   "cell_type": "code",
   "execution_count": null,
   "metadata": {
    "pycharm": {
     "name": "#%% testing with other value\n"
    }
   },
   "outputs": [],
   "source": [
    "location = ['United States']\n",
    "\n",
    "for ctry in location:\n",
    "\n",
    "    # resample to biweekly\n",
    "    dfVariTemp = dfVariant[dfVariant['location'] == ctry].resample('sm').mean()\n",
    "    # print(ctry, '\\n', dfVariant.shape, dfVariant)\n",
    "\n",
    "    dfTemp = df[df['location'] == ctry].resample('sm').mean()\n",
    "    # print(ctry, '\\n', df.shape, dfTemp['new_cases'], dfTemp['total_vaccinations'])\n",
    "\n",
    "    plt.figure(figsize=(12,5))\n",
    "    plt.title(f'{ctry}: total vaccinations vs. new cases vs. delta variant')\n",
    "    ax1 = dfTemp.total_deaths.plot(color='blue', grid=True, label='total death')\n",
    "    ax2 = dfTemp.total_vaccinations.plot(color='red', grid=True, secondary_y=True, label='total vaccinations')\n",
    "    ax3 = dfVariTemp.num_sequences.plot(color='green', grid=True, label='delta variant')\n",
    "    ax4 = dfTemp.icu_patients.plot(color='purple', grid=True, label='icu patients')\n",
    "\n",
    "    h1, l1 = ax1.get_legend_handles_labels()\n",
    "    h2, l2 = ax2.get_legend_handles_labels()\n",
    "    h3, l3 = ax3.get_legend_handles_labels()\n",
    "    h4, l4 = ax3.get_legend_handles_labels()\n",
    "\n",
    "    #plt.legend(h1+h2, l1+l2, loc=2)\n",
    "    ax1.legend(loc=2)\n",
    "    ax2.legend(loc=1)\n",
    "    ax3.legend(loc=2)\n",
    "    ax4.legend(loc=2)\n",
    "\n",
    "    plt.show()"
   ]
  }
 ],
 "metadata": {
  "kernelspec": {
   "display_name": "Python 3",
   "language": "python",
   "name": "python3"
  },
  "language_info": {
   "codemirror_mode": {
    "name": "ipython",
    "version": 3
   },
   "file_extension": ".py",
   "mimetype": "text/x-python",
   "name": "python",
   "nbconvert_exporter": "python",
   "pygments_lexer": "ipython3",
   "version": "3.8.8"
  }
 },
 "nbformat": 4,
 "nbformat_minor": 2
}
